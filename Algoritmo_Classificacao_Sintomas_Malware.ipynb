{
 "cells": [
  {
   "cell_type": "markdown",
   "id": "1d354fe8-7535-4e51-9b62-9b32906db545",
   "metadata": {},
   "source": [
    "### ***Importações***"
   ]
  },
  {
   "cell_type": "code",
   "execution_count": 89,
   "id": "2bb8fe98-9c2f-4042-b377-a5d34fa04719",
   "metadata": {},
   "outputs": [
    {
     "data": {
      "text/plain": [
       "'3.9.12'"
      ]
     },
     "execution_count": 89,
     "metadata": {},
     "output_type": "execute_result"
    }
   ],
   "source": [
    "import numpy as np\n",
    "import pandas as pd\n",
    "import platform\n",
    "import seaborn as sn\n",
    "\n",
    "from sklearn.model_selection import train_test_split\n",
    "from sklearn.linear_model import LogisticRegression\n",
    "from sklearn.metrics import accuracy_score, confusion_matrix, classification_report\n",
    "\n",
    "platform.python_version()"
   ]
  },
  {
   "cell_type": "markdown",
   "id": "4d38a30d-343c-4e38-9d8b-3d1c7e550c9d",
   "metadata": {},
   "source": [
    "### ***Realizando a leitura do arquivo csv organizado no Trabalho 02 para utilizar o modelo de Classificação***"
   ]
  },
  {
   "cell_type": "code",
   "execution_count": 90,
   "id": "1007647a-5daf-48dc-b408-d96b49815108",
   "metadata": {},
   "outputs": [
    {
     "data": {
      "text/html": [
       "<div>\n",
       "<style scoped>\n",
       "    .dataframe tbody tr th:only-of-type {\n",
       "        vertical-align: middle;\n",
       "    }\n",
       "\n",
       "    .dataframe tbody tr th {\n",
       "        vertical-align: top;\n",
       "    }\n",
       "\n",
       "    .dataframe thead th {\n",
       "        text-align: right;\n",
       "    }\n",
       "</style>\n",
       "<table border=\"1\" class=\"dataframe\">\n",
       "  <thead>\n",
       "    <tr style=\"text-align: right;\">\n",
       "      <th></th>\n",
       "      <th>Sintoma01</th>\n",
       "      <th>Sintoma02</th>\n",
       "      <th>Sintoma03</th>\n",
       "      <th>Sintoma04</th>\n",
       "      <th>Sintoma05</th>\n",
       "      <th>Sintoma06</th>\n",
       "      <th>Sintoma07</th>\n",
       "      <th>Sintoma08</th>\n",
       "      <th>Sintoma09</th>\n",
       "      <th>Sintoma10</th>\n",
       "      <th>...</th>\n",
       "      <th>Sintoma14</th>\n",
       "      <th>Sintoma15</th>\n",
       "      <th>Sintoma16</th>\n",
       "      <th>Sintoma17</th>\n",
       "      <th>Sintoma18</th>\n",
       "      <th>Sintoma19</th>\n",
       "      <th>Sintoma20</th>\n",
       "      <th>Sintoma21</th>\n",
       "      <th>Sintoma22</th>\n",
       "      <th>MLC</th>\n",
       "    </tr>\n",
       "  </thead>\n",
       "  <tbody>\n",
       "    <tr>\n",
       "      <th>0</th>\n",
       "      <td>0</td>\n",
       "      <td>0</td>\n",
       "      <td>0</td>\n",
       "      <td>1</td>\n",
       "      <td>0</td>\n",
       "      <td>0</td>\n",
       "      <td>0</td>\n",
       "      <td>1</td>\n",
       "      <td>0</td>\n",
       "      <td>0</td>\n",
       "      <td>...</td>\n",
       "      <td>0</td>\n",
       "      <td>0</td>\n",
       "      <td>1</td>\n",
       "      <td>0</td>\n",
       "      <td>0</td>\n",
       "      <td>0</td>\n",
       "      <td>0</td>\n",
       "      <td>0</td>\n",
       "      <td>0</td>\n",
       "      <td>1</td>\n",
       "    </tr>\n",
       "    <tr>\n",
       "      <th>1</th>\n",
       "      <td>1</td>\n",
       "      <td>1</td>\n",
       "      <td>1</td>\n",
       "      <td>1</td>\n",
       "      <td>1</td>\n",
       "      <td>1</td>\n",
       "      <td>1</td>\n",
       "      <td>1</td>\n",
       "      <td>0</td>\n",
       "      <td>1</td>\n",
       "      <td>...</td>\n",
       "      <td>0</td>\n",
       "      <td>0</td>\n",
       "      <td>1</td>\n",
       "      <td>1</td>\n",
       "      <td>0</td>\n",
       "      <td>0</td>\n",
       "      <td>0</td>\n",
       "      <td>0</td>\n",
       "      <td>0</td>\n",
       "      <td>1</td>\n",
       "    </tr>\n",
       "    <tr>\n",
       "      <th>2</th>\n",
       "      <td>1</td>\n",
       "      <td>0</td>\n",
       "      <td>1</td>\n",
       "      <td>1</td>\n",
       "      <td>1</td>\n",
       "      <td>0</td>\n",
       "      <td>1</td>\n",
       "      <td>1</td>\n",
       "      <td>0</td>\n",
       "      <td>1</td>\n",
       "      <td>...</td>\n",
       "      <td>0</td>\n",
       "      <td>0</td>\n",
       "      <td>1</td>\n",
       "      <td>0</td>\n",
       "      <td>0</td>\n",
       "      <td>0</td>\n",
       "      <td>1</td>\n",
       "      <td>0</td>\n",
       "      <td>0</td>\n",
       "      <td>1</td>\n",
       "    </tr>\n",
       "    <tr>\n",
       "      <th>3</th>\n",
       "      <td>1</td>\n",
       "      <td>0</td>\n",
       "      <td>1</td>\n",
       "      <td>1</td>\n",
       "      <td>1</td>\n",
       "      <td>0</td>\n",
       "      <td>1</td>\n",
       "      <td>1</td>\n",
       "      <td>0</td>\n",
       "      <td>1</td>\n",
       "      <td>...</td>\n",
       "      <td>0</td>\n",
       "      <td>0</td>\n",
       "      <td>1</td>\n",
       "      <td>0</td>\n",
       "      <td>0</td>\n",
       "      <td>0</td>\n",
       "      <td>1</td>\n",
       "      <td>0</td>\n",
       "      <td>0</td>\n",
       "      <td>1</td>\n",
       "    </tr>\n",
       "    <tr>\n",
       "      <th>4</th>\n",
       "      <td>1</td>\n",
       "      <td>0</td>\n",
       "      <td>1</td>\n",
       "      <td>1</td>\n",
       "      <td>1</td>\n",
       "      <td>0</td>\n",
       "      <td>1</td>\n",
       "      <td>1</td>\n",
       "      <td>0</td>\n",
       "      <td>1</td>\n",
       "      <td>...</td>\n",
       "      <td>0</td>\n",
       "      <td>0</td>\n",
       "      <td>1</td>\n",
       "      <td>1</td>\n",
       "      <td>0</td>\n",
       "      <td>0</td>\n",
       "      <td>1</td>\n",
       "      <td>0</td>\n",
       "      <td>0</td>\n",
       "      <td>1</td>\n",
       "    </tr>\n",
       "    <tr>\n",
       "      <th>...</th>\n",
       "      <td>...</td>\n",
       "      <td>...</td>\n",
       "      <td>...</td>\n",
       "      <td>...</td>\n",
       "      <td>...</td>\n",
       "      <td>...</td>\n",
       "      <td>...</td>\n",
       "      <td>...</td>\n",
       "      <td>...</td>\n",
       "      <td>...</td>\n",
       "      <td>...</td>\n",
       "      <td>...</td>\n",
       "      <td>...</td>\n",
       "      <td>...</td>\n",
       "      <td>...</td>\n",
       "      <td>...</td>\n",
       "      <td>...</td>\n",
       "      <td>...</td>\n",
       "      <td>...</td>\n",
       "      <td>...</td>\n",
       "      <td>...</td>\n",
       "    </tr>\n",
       "    <tr>\n",
       "      <th>65</th>\n",
       "      <td>0</td>\n",
       "      <td>0</td>\n",
       "      <td>1</td>\n",
       "      <td>1</td>\n",
       "      <td>0</td>\n",
       "      <td>0</td>\n",
       "      <td>1</td>\n",
       "      <td>1</td>\n",
       "      <td>0</td>\n",
       "      <td>0</td>\n",
       "      <td>...</td>\n",
       "      <td>0</td>\n",
       "      <td>0</td>\n",
       "      <td>1</td>\n",
       "      <td>1</td>\n",
       "      <td>1</td>\n",
       "      <td>1</td>\n",
       "      <td>1</td>\n",
       "      <td>1</td>\n",
       "      <td>1</td>\n",
       "      <td>5</td>\n",
       "    </tr>\n",
       "    <tr>\n",
       "      <th>66</th>\n",
       "      <td>0</td>\n",
       "      <td>0</td>\n",
       "      <td>1</td>\n",
       "      <td>1</td>\n",
       "      <td>0</td>\n",
       "      <td>0</td>\n",
       "      <td>1</td>\n",
       "      <td>1</td>\n",
       "      <td>0</td>\n",
       "      <td>0</td>\n",
       "      <td>...</td>\n",
       "      <td>0</td>\n",
       "      <td>0</td>\n",
       "      <td>1</td>\n",
       "      <td>1</td>\n",
       "      <td>1</td>\n",
       "      <td>1</td>\n",
       "      <td>1</td>\n",
       "      <td>1</td>\n",
       "      <td>1</td>\n",
       "      <td>5</td>\n",
       "    </tr>\n",
       "    <tr>\n",
       "      <th>67</th>\n",
       "      <td>0</td>\n",
       "      <td>0</td>\n",
       "      <td>1</td>\n",
       "      <td>1</td>\n",
       "      <td>0</td>\n",
       "      <td>0</td>\n",
       "      <td>1</td>\n",
       "      <td>1</td>\n",
       "      <td>0</td>\n",
       "      <td>0</td>\n",
       "      <td>...</td>\n",
       "      <td>0</td>\n",
       "      <td>0</td>\n",
       "      <td>1</td>\n",
       "      <td>1</td>\n",
       "      <td>1</td>\n",
       "      <td>1</td>\n",
       "      <td>1</td>\n",
       "      <td>1</td>\n",
       "      <td>1</td>\n",
       "      <td>5</td>\n",
       "    </tr>\n",
       "    <tr>\n",
       "      <th>68</th>\n",
       "      <td>0</td>\n",
       "      <td>0</td>\n",
       "      <td>1</td>\n",
       "      <td>1</td>\n",
       "      <td>0</td>\n",
       "      <td>0</td>\n",
       "      <td>1</td>\n",
       "      <td>1</td>\n",
       "      <td>0</td>\n",
       "      <td>0</td>\n",
       "      <td>...</td>\n",
       "      <td>0</td>\n",
       "      <td>0</td>\n",
       "      <td>1</td>\n",
       "      <td>1</td>\n",
       "      <td>1</td>\n",
       "      <td>1</td>\n",
       "      <td>1</td>\n",
       "      <td>1</td>\n",
       "      <td>1</td>\n",
       "      <td>5</td>\n",
       "    </tr>\n",
       "    <tr>\n",
       "      <th>69</th>\n",
       "      <td>0</td>\n",
       "      <td>0</td>\n",
       "      <td>1</td>\n",
       "      <td>1</td>\n",
       "      <td>0</td>\n",
       "      <td>0</td>\n",
       "      <td>1</td>\n",
       "      <td>1</td>\n",
       "      <td>0</td>\n",
       "      <td>0</td>\n",
       "      <td>...</td>\n",
       "      <td>0</td>\n",
       "      <td>0</td>\n",
       "      <td>1</td>\n",
       "      <td>1</td>\n",
       "      <td>1</td>\n",
       "      <td>1</td>\n",
       "      <td>1</td>\n",
       "      <td>1</td>\n",
       "      <td>1</td>\n",
       "      <td>5</td>\n",
       "    </tr>\n",
       "  </tbody>\n",
       "</table>\n",
       "<p>70 rows × 23 columns</p>\n",
       "</div>"
      ],
      "text/plain": [
       "    Sintoma01  Sintoma02  Sintoma03  Sintoma04  Sintoma05  Sintoma06  \\\n",
       "0           0          0          0          1          0          0   \n",
       "1           1          1          1          1          1          1   \n",
       "2           1          0          1          1          1          0   \n",
       "3           1          0          1          1          1          0   \n",
       "4           1          0          1          1          1          0   \n",
       "..        ...        ...        ...        ...        ...        ...   \n",
       "65          0          0          1          1          0          0   \n",
       "66          0          0          1          1          0          0   \n",
       "67          0          0          1          1          0          0   \n",
       "68          0          0          1          1          0          0   \n",
       "69          0          0          1          1          0          0   \n",
       "\n",
       "    Sintoma07  Sintoma08  Sintoma09  Sintoma10  ...  Sintoma14  Sintoma15  \\\n",
       "0           0          1          0          0  ...          0          0   \n",
       "1           1          1          0          1  ...          0          0   \n",
       "2           1          1          0          1  ...          0          0   \n",
       "3           1          1          0          1  ...          0          0   \n",
       "4           1          1          0          1  ...          0          0   \n",
       "..        ...        ...        ...        ...  ...        ...        ...   \n",
       "65          1          1          0          0  ...          0          0   \n",
       "66          1          1          0          0  ...          0          0   \n",
       "67          1          1          0          0  ...          0          0   \n",
       "68          1          1          0          0  ...          0          0   \n",
       "69          1          1          0          0  ...          0          0   \n",
       "\n",
       "    Sintoma16  Sintoma17  Sintoma18  Sintoma19  Sintoma20  Sintoma21  \\\n",
       "0           1          0          0          0          0          0   \n",
       "1           1          1          0          0          0          0   \n",
       "2           1          0          0          0          1          0   \n",
       "3           1          0          0          0          1          0   \n",
       "4           1          1          0          0          1          0   \n",
       "..        ...        ...        ...        ...        ...        ...   \n",
       "65          1          1          1          1          1          1   \n",
       "66          1          1          1          1          1          1   \n",
       "67          1          1          1          1          1          1   \n",
       "68          1          1          1          1          1          1   \n",
       "69          1          1          1          1          1          1   \n",
       "\n",
       "    Sintoma22  MLC  \n",
       "0           0    1  \n",
       "1           0    1  \n",
       "2           0    1  \n",
       "3           0    1  \n",
       "4           0    1  \n",
       "..        ...  ...  \n",
       "65          1    5  \n",
       "66          1    5  \n",
       "67          1    5  \n",
       "68          1    5  \n",
       "69          1    5  \n",
       "\n",
       "[70 rows x 23 columns]"
      ]
     },
     "execution_count": 90,
     "metadata": {},
     "output_type": "execute_result"
    }
   ],
   "source": [
    "softwares_maliciosos = pd.read_csv('algoritmo.csv', encoding='utf8', delimiter=',', header=0)\n",
    "softwares_maliciosos"
   ]
  },
  {
   "cell_type": "markdown",
   "id": "727fda7d-3825-42d9-aede-03a564118381",
   "metadata": {},
   "source": [
    "### ***Divisão entre os Atributos e Rótulos.***"
   ]
  },
  {
   "cell_type": "code",
   "execution_count": 91,
   "id": "4410bd20-4fd6-4a93-a8e0-a7973d85b3f0",
   "metadata": {},
   "outputs": [],
   "source": [
    "X = softwares_maliciosos.drop('MLC', axis = 1)\n",
    "y = softwares_maliciosos.MLC"
   ]
  },
  {
   "cell_type": "markdown",
   "id": "de94be3b-c3a7-4672-a6f0-17dec54543cf",
   "metadata": {},
   "source": [
    "### ***Dividindo entre Treino e Teste.***"
   ]
  },
  {
   "cell_type": "code",
   "execution_count": 133,
   "id": "424db415-1e1e-4812-9fde-e62f0e1961d8",
   "metadata": {},
   "outputs": [
    {
     "data": {
      "text/plain": [
       "LogisticRegression()"
      ]
     },
     "execution_count": 133,
     "metadata": {},
     "output_type": "execute_result"
    }
   ],
   "source": [
    "X_train, X_test, y_train, y_test = train_test_split(X, y, random_state=0)\n",
    "\n",
    "model = LogisticRegression()\n",
    "model.fit(X_train, y_train)"
   ]
  },
  {
   "cell_type": "markdown",
   "id": "75b57e10-f6cc-41ad-ac6e-9e7cddb32955",
   "metadata": {},
   "source": [
    "### ***Verificando a Acurácia no Teste, usando o Predict.***"
   ]
  },
  {
   "cell_type": "code",
   "execution_count": 135,
   "id": "c1b780d4-393e-48d5-b403-18f939986ef8",
   "metadata": {},
   "outputs": [
    {
     "data": {
      "text/plain": [
       "0.9444444444444444"
      ]
     },
     "execution_count": 135,
     "metadata": {},
     "output_type": "execute_result"
    }
   ],
   "source": [
    "y_pred = model.predict(X_test)\n",
    "accuracy_score(y_test, y_pred)"
   ]
  },
  {
   "cell_type": "markdown",
   "id": "33a2726d-9543-4c9c-acba-6d95466c35d8",
   "metadata": {},
   "source": [
    "### ***Verificando o resultado com o Score.***"
   ]
  },
  {
   "cell_type": "code",
   "execution_count": 116,
   "id": "f2751abc-fd3c-4380-a208-b2daa793b821",
   "metadata": {},
   "outputs": [
    {
     "data": {
      "text/plain": [
       "0.9444444444444444"
      ]
     },
     "execution_count": 116,
     "metadata": {},
     "output_type": "execute_result"
    }
   ],
   "source": [
    "model.score(X_test,y_test)"
   ]
  },
  {
   "cell_type": "markdown",
   "id": "69aea06b-237c-4ff9-bbf2-1499fc3328fe",
   "metadata": {},
   "source": [
    "### ***Métrica Escolhida foi a Acurácia, por melhor se adaptar ao meu problema.***"
   ]
  },
  {
   "cell_type": "code",
   "execution_count": 117,
   "id": "0bfd2d08-b74b-436c-be54-f50c7004f2ab",
   "metadata": {},
   "outputs": [
    {
     "name": "stdout",
     "output_type": "stream",
     "text": [
      "Acurácia no Treino = 1.00\n",
      "Acurácia no Teste = 0.94\n"
     ]
    }
   ],
   "source": [
    "acuracia_treino = model.score(X_train, y_train)\n",
    "print(\"Acurácia no Treino = {:0.2f}\".format(acuracia_treino))\n",
    "acuracia_teste = model.score(X_test, y_test)\n",
    "print(\"Acurácia no Teste = {:0.2f}\".format(acuracia_teste))"
   ]
  },
  {
   "cell_type": "markdown",
   "id": "b9fce47b-7e94-4070-9329-00866cab80cf",
   "metadata": {},
   "source": [
    "### ***Utilizando a Matrix de Confusão para Mostrar os Valores Reais que o Algoritmo Acertou na Diagonal.***"
   ]
  },
  {
   "cell_type": "code",
   "execution_count": 136,
   "id": "1171dd34-1f1d-464f-ad1f-faba84089c5e",
   "metadata": {},
   "outputs": [
    {
     "data": {
      "image/png": "[encoded data removed]",
      "text/plain": [
       "<Figure size 432x288 with 2 Axes>"
      ]
     },
     "metadata": {
      "needs_background": "light"
     },
     "output_type": "display_data"
    },
    {
     "name": "stdout",
     "output_type": "stream",
     "text": [
      "\n",
      "------------------- Relatorio de Classificação -------------------\n",
      "              precision    recall  f1-score   support\n",
      "\n",
      "           1       0.50      1.00      0.67         1\n",
      "           2       1.00      1.00      1.00         3\n",
      "           3       1.00      1.00      1.00         5\n",
      "           4       1.00      1.00      1.00         4\n",
      "           5       1.00      0.80      0.89         5\n",
      "\n",
      "    accuracy                           0.94        18\n",
      "   macro avg       0.90      0.96      0.91        18\n",
      "weighted avg       0.97      0.94      0.95        18\n",
      "\n"
     ]
    }
   ],
   "source": [
    "model = confusion_matrix(y_test, y_pred)\n",
    "\n",
    "sn.heatmap(model, cmap=\"coolwarm_r\",annot=True,linewidths=0.5)\n",
    "plt.title(\"Matriz de Confusão\")\n",
    "plt.xlabel(\"Classe Prevista\")\n",
    "plt.ylabel(\"Classe Real\")\n",
    "plt.show()\n",
    "print('\\n------------------- Relatorio de Classificação -------------------')\n",
    "print(classification_report(y_test, y_pred, zero_division=0)) "
   ]
  },
  {
   "cell_type": "code",
   "execution_count": null,
   "id": "285f74ca-fa17-4da7-a77c-b41f3ea96c94",
   "metadata": {},
   "outputs": [],
   "source": []
  }
 ],
 "metadata": {
  "kernelspec": {
   "display_name": "Python 3 (ipykernel)",
   "language": "python",
   "name": "python3"
  },
  "language_info": {
   "codemirror_mode": {
    "name": "ipython",
    "version": 3
   },
   "file_extension": ".py",
   "mimetype": "text/x-python",
   "name": "python",
   "nbconvert_exporter": "python",
   "pygments_lexer": "ipython3",
   "version": "3.9.12"
  }
 },
 "nbformat": 4,
 "nbformat_minor": 5
}
